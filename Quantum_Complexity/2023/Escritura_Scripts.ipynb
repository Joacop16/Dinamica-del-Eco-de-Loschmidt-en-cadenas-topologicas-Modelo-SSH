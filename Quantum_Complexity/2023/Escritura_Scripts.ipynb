{
 "cells": [
  {
   "cell_type": "code",
   "execution_count": 1,
   "id": "286ac1fa-994c-4c2f-8491-2b9d38bcced8",
   "metadata": {},
   "outputs": [],
   "source": [
    "import os"
   ]
  },
  {
   "cell_type": "code",
   "execution_count": 2,
   "id": "9d7977c8-2e8f-4ed5-a830-0ddd450da3ea",
   "metadata": {},
   "outputs": [],
   "source": [
    "folder =  'Scripts'\n",
    "try: os.mkdir(folder)\n",
    "except: pass"
   ]
  },
  {
   "cell_type": "markdown",
   "id": "5dd42173-b2a3-4fe6-ba3b-bd18bb8864ab",
   "metadata": {},
   "source": [
    "**Derivadas**"
   ]
  },
  {
   "cell_type": "code",
   "execution_count": 3,
   "id": "f4c72622-c474-400d-bb7e-f36fef881f5d",
   "metadata": {},
   "outputs": [],
   "source": [
    "N = 15"
   ]
  },
  {
   "cell_type": "code",
   "execution_count": 4,
   "id": "d16931a4-666b-463d-b9b9-84476289f34b",
   "metadata": {},
   "outputs": [],
   "source": [
    "lineas = []\n",
    "\n",
    "lineas.append(\"from Functions import f_0\")\n",
    "lineas.append(\"\")\n",
    "\n",
    "lista_util = \"#[Derivadas_1.f_0\"\n",
    "\n",
    "for i in range(1,N):\n",
    "\n",
    "    lineas.append(f\"def f_{i}(t, delta = 0.2):\")\n",
    "    # lineas.append(f\"    return (f_{i-1}(t + delta) - f_{i-1}(t))/delta\")\n",
    "    lineas.append(f\"    return (f_{i-1}(t + delta) - f_{i-1}(t - delta))/(2*delta)\")\n",
    "    lineas.append(\"\")\n",
    "    \n",
    "    lista_util += f\",Derivadas_1.f_{i}\"\n",
    "lista_util += \"]\" \n",
    "\n",
    "script = open(f\"{folder}/Derivadas_1.py\",\"w\")\n",
    "\n",
    "script.write(lista_util + \"\\n\")\n",
    "script.write(\"\\n\")\n",
    "\n",
    "for i in range(len(lineas)):\n",
    "    script.write(lineas[i] + \"\\n\")\n",
    "script.close()"
   ]
  },
  {
   "cell_type": "code",
   "execution_count": 5,
   "id": "621c2c0c-9b70-4e90-ac62-47e2d47a93f8",
   "metadata": {},
   "outputs": [],
   "source": [
    "lineas = []\n",
    "\n",
    "lineas.append(\"from Functions import f_0\")\n",
    "lineas.append(\"\")\n",
    "\n",
    "lista_util = \"#[Derivadas_2.f_0\"\n",
    "\n",
    "i = 0\n",
    "while i < N:    \n",
    "    lineas.append(f\"def f_{i + 1}(t, delta = 0.2):\")\n",
    "    lineas.append(f\"    return (-f_{i}(t + 2*delta) + 8*f_{i}(t + delta) - 8*f_{i}(t - delta) + f_{i}(t - 2*delta))/(12*delta)\")\n",
    "    lineas.append(\"\")    \n",
    "    \n",
    "    lineas.append(f\"def f_{i + 2}(t, delta = 0.2):\")\n",
    "    lineas.append(f\"    return (-f_{i}(t + 2*delta) + 16*f_{i}(t + delta) - 30*f_{i}(t) + 16*f_{i}(t - delta) - f_{i}(t - 2*delta))/(12*delta**2)\")\n",
    "    lineas.append(\"\")       \n",
    "    \n",
    "    lineas.append(f\"def f_{i + 3}(t, delta = 0.2):\")\n",
    "    lineas.append(f\"    return (-f_{i}(t + 3*delta) + 8*f_{i}(t + 2*delta) - 13*f_{i}(t + delta) + 13*f_{i}(t - delta) - 8*f_{i}(t - 2*delta) + f_{i}(t - 3*delta))/(8*delta**3)\")\n",
    "    lineas.append(\"\")  \n",
    "    \n",
    "    lineas.append(f\"def f_{i + 4}(t, delta = 0.2):\")\n",
    "    lineas.append(f\"    return (-f_{i}(t + 3*delta) + 12*f_{i}(t + 2*delta) - 39*f_{i}(t + delta) + 56*f_{i}(t) - 39*f_{i}(t - delta) + 12*f_{i}(t - 2*delta) - f_{i}(t - 3*delta))/(6*delta**4)\")\n",
    "    lineas.append(\"\")    \n",
    "    \n",
    "    lista_util += f\",Derivadas_2.f_{i + 1}\"\n",
    "    lista_util += f\",Derivadas_2.f_{i + 2}\"\n",
    "    lista_util += f\",Derivadas_2.f_{i + 3}\"\n",
    "    lista_util += f\",Derivadas_2.f_{i + 4}\"\n",
    "    i = i + 4\n",
    "    \n",
    "lista_util += \"]\"   \n",
    "\n",
    "script = open(f\"{folder}/Derivadas_2.py\",\"w\")\n",
    "\n",
    "script.write(lista_util + \"\\n\")\n",
    "script.write(\"\\n\")\n",
    "\n",
    "for i in range(len(lineas)):\n",
    "    script.write(lineas[i] + \"\\n\")\n",
    "script.close()"
   ]
  },
  {
   "cell_type": "code",
   "execution_count": 11,
   "id": "1c353530-72be-4678-a679-5bd691ae4c12",
   "metadata": {},
   "outputs": [],
   "source": [
    "lineas = []\n",
    "\n",
    "lineas.append(\"from Functions import f_0\")\n",
    "lineas.append(\"from scipy.misc import derivative\")\n",
    "lineas.append(\"\")\n",
    "\n",
    "lista_util = \"#[Derivadas_3.f_0\"\n",
    "\n",
    "for i in range(1,N):\n",
    "\n",
    "    lineas.append(f\"def f_{i}(t, delta = 0.3):\")\n",
    "    lineas.append(f\"    return derivative(f_{i - 1}, x0 = t, dx= delta, n = 1 , order = 7)\")\n",
    "    lineas.append(\"\")\n",
    "    \n",
    "    lista_util += f\",Derivadas_3.f_{i}\"\n",
    "\n",
    "lista_util += \"]\"   \n",
    "\n",
    "script = open(f\"{folder}/Derivadas_3.py\",\"w\")\n",
    "\n",
    "script.write(lista_util + \"\\n\")\n",
    "script.write(\"\\n\")\n",
    "\n",
    "for i in range(len(lineas)):\n",
    "    script.write(lineas[i] + \"\\n\")\n",
    "script.close()"
   ]
  },
  {
   "cell_type": "code",
   "execution_count": 10,
   "id": "2693b2e5-983e-447c-b677-c8e483d34ea4",
   "metadata": {},
   "outputs": [
    {
     "data": {
      "text/plain": [
       "9.142857142857142"
      ]
     },
     "execution_count": 10,
     "metadata": {},
     "output_type": "execute_result"
    }
   ],
   "source": [
    "i/7"
   ]
  },
  {
   "cell_type": "markdown",
   "id": "20054968-7c97-4b11-a882-f17cf862d533",
   "metadata": {},
   "source": [
    "**Relaciones de recurrencia**"
   ]
  },
  {
   "cell_type": "code",
   "execution_count": 7,
   "id": "054c2d47-b624-4a27-a6f1-38b90cd617d0",
   "metadata": {},
   "outputs": [],
   "source": [
    "lineas = []\n",
    "\n",
    "lineas.append(\"from Functions import D_0\")\n",
    "lineas.append(\"from Functions import a_coefs\")\n",
    "lineas.append(\"from Functions import b_coefs\")\n",
    "lineas.append(\"from scipy.misc import derivative\")\n",
    "lineas.append(\"\")\n",
    "\n",
    "lineas.append(f\"def D_{1}(t):\")\n",
    "lineas.append(f\"    D_Kprima = derivative(D_{0}, x0 = t, dx= 0.3, n = 1 , order = 7)\")\n",
    "lineas.append(f\"    return (1j*D_Kprima - D_{0}(t)*a_coefs[{0}])/b_coefs[{1}]\")\n",
    "lineas.append(\"\")\n",
    "\n",
    "lista_util = \"#[Recurrencias.D_0\"\n",
    "\n",
    "for k in range(1, N):\n",
    "\n",
    "    lineas.append(f\"def D_{k + 1}(t):\")\n",
    "    lineas.append(f\"    D_Kprima = derivative(D_{k}, x0 = t, dx= 0.3, n = 1 , order = 7)\")\n",
    "    lineas.append(f\"    return (1j*D_Kprima - D_{k}(t)*a_coefs[{k}] - b_coefs[{k}]*D_{k-1}(t))/b_coefs[{k + 1}]\")\n",
    "    lineas.append(\"\")\n",
    "    \n",
    "    lista_util += f\",Recurrencias.D_{k}\"\n",
    "    \n",
    "lista_util += \"]\"   \n",
    "\n",
    "script = open(f\"{folder}/Recurrencias.py\",\"w\")\n",
    "\n",
    "script.write(lista_util + \"\\n\")\n",
    "script.write(\"\\n\")\n",
    "\n",
    "for i in range(len(lineas)):\n",
    "    script.write(lineas[i] + \"\\n\")\n",
    "script.close()"
   ]
  },
  {
   "cell_type": "code",
   "execution_count": null,
   "id": "b92cc6f6-e39d-4d9b-a46c-f2230becf0f9",
   "metadata": {},
   "outputs": [],
   "source": []
  }
 ],
 "metadata": {
  "kernelspec": {
   "display_name": "Python 3 (ipykernel)",
   "language": "python",
   "name": "python3"
  },
  "language_info": {
   "codemirror_mode": {
    "name": "ipython",
    "version": 3
   },
   "file_extension": ".py",
   "mimetype": "text/x-python",
   "name": "python",
   "nbconvert_exporter": "python",
   "pygments_lexer": "ipython3",
   "version": "3.10.6"
  }
 },
 "nbformat": 4,
 "nbformat_minor": 5
}
